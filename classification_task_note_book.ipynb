{
 "cells": [
  {
   "cell_type": "markdown",
   "source": [
    "## Assignment - 1\n",
    "Mohammad Usama\n",
    "classification"
   ],
   "metadata": {
    "collapsed": false,
    "pycharm": {
     "name": "#%% md\n"
    }
   }
  },
  {
   "cell_type": "code",
   "execution_count": 2,
   "outputs": [],
   "source": [
    "import pandas as pd\n",
    "from sklearn.metrics import recall_score, precision_score, accuracy_score\n",
    "from sklearn.linear_model import LogisticRegression\n",
    "from sklearn.preprocessing import StandardScaler\n",
    "from category_encoders import BinaryEncoder\n",
    "from sklearn.impute import SimpleImputer\n",
    "from pandas_profiling import ProfileReport"
   ],
   "metadata": {
    "collapsed": false,
    "pycharm": {
     "name": "#%%\n"
    }
   }
  },
  {
   "cell_type": "code",
   "execution_count": 3,
   "outputs": [],
   "source": [
    "df = pd.read_csv(\"stream_quality_data/train_data.csv\")\n",
    "df_test = pd.read_csv(\"stream_quality_data/test_data.csv\")"
   ],
   "metadata": {
    "collapsed": false,
    "pycharm": {
     "name": "#%%\n"
    }
   }
  },
  {
   "cell_type": "code",
   "execution_count": 4,
   "outputs": [
    {
     "data": {
      "text/plain": "Summarize dataset:   0%|          | 0/5 [00:00<?, ?it/s]",
      "application/vnd.jupyter.widget-view+json": {
       "version_major": 2,
       "version_minor": 0,
       "model_id": "f88acf129bc24383995847263afe9194"
      }
     },
     "metadata": {},
     "output_type": "display_data"
    },
    {
     "name": "stderr",
     "output_type": "stream",
     "text": [
      "/home/syed/Downloads/ML-Assignment-1-master/venv/lib/python3.10/site-packages/scipy/stats/_stats_py.py:5215: RuntimeWarning: overflow encountered in long_scalars\n",
      "  (2 * xtie * ytie) / m + x0 * y0 / (9 * m * (size - 2)))\n"
     ]
    },
    {
     "data": {
      "text/plain": "Generate report structure:   0%|          | 0/1 [00:00<?, ?it/s]",
      "application/vnd.jupyter.widget-view+json": {
       "version_major": 2,
       "version_minor": 0,
       "model_id": "61439de871284ea8abc65ae23de2040e"
      }
     },
     "metadata": {},
     "output_type": "display_data"
    },
    {
     "data": {
      "text/plain": "Render HTML:   0%|          | 0/1 [00:00<?, ?it/s]",
      "application/vnd.jupyter.widget-view+json": {
       "version_major": 2,
       "version_minor": 0,
       "model_id": "b4cd4562ded446e98d2d49426d7b4feb"
      }
     },
     "metadata": {},
     "output_type": "display_data"
    },
    {
     "data": {
      "text/plain": "Export report to file:   0%|          | 0/1 [00:00<?, ?it/s]",
      "application/vnd.jupyter.widget-view+json": {
       "version_major": 2,
       "version_minor": 0,
       "model_id": "bfddbf2375474d2389991614cf576236"
      }
     },
     "metadata": {},
     "output_type": "display_data"
    }
   ],
   "source": [
    "ProfileReport(df).to_file(\"df_report.html\")"
   ],
   "metadata": {
    "collapsed": false,
    "pycharm": {
     "name": "#%%\n"
    }
   }
  },
  {
   "cell_type": "code",
   "execution_count": 5,
   "outputs": [],
   "source": [
    "x_train = df.drop(['stream_quality'], axis=1)\n",
    "x_test = df_test.drop(columns=['stream_quality'])\n",
    "y_train = df.loc[:, 'stream_quality']\n",
    "y_test = df_test.loc[:, 'stream_quality']"
   ],
   "metadata": {
    "collapsed": false,
    "pycharm": {
     "name": "#%%\n"
    }
   }
  },
  {
   "cell_type": "code",
   "execution_count": 6,
   "outputs": [],
   "source": [
    "# preprocessing my df\n",
    "cats=x_train.select_dtypes(include=['object']).columns.tolist()\n",
    "enco=BinaryEncoder(cols=cats)\n",
    "enco.fit(x_train)\n",
    "x_train = enco.transform(x_train)\n",
    "\n",
    "imp=SimpleImputer(strategy='most_frequent')\n",
    "imp.fit(x_train)\n",
    "x_train = pd.DataFrame(imp.transform(x_train), columns=x_train.columns)\n",
    "\n",
    "s=StandardScaler()\n",
    "s.fit(x_train)\n",
    "x_train = pd.DataFrame(s.transform(x_train), columns=x_train.columns)\n",
    "\n",
    "#doing same with df_test\n",
    "cats=x_test.select_dtypes(include=['object']).columns.tolist()\n",
    "enco=BinaryEncoder(cols=cats)\n",
    "enco.fit(x_test)\n",
    "x_test = enco.transform(x_test)\n",
    "\n",
    "imp=SimpleImputer(strategy='most_frequent')\n",
    "imp.fit(x_test)\n",
    "x_test = pd.DataFrame(imp.transform(x_test), columns=x_test.columns)\n",
    "\n",
    "s=StandardScaler()\n",
    "s.fit(x_test)\n",
    "x_test = pd.DataFrame(s.transform(x_test), columns=x_test.columns)"
   ],
   "metadata": {
    "collapsed": false,
    "pycharm": {
     "name": "#%%\n"
    }
   }
  },
  {
   "cell_type": "code",
   "execution_count": 7,
   "outputs": [
    {
     "name": "stdout",
     "output_type": "stream",
     "text": [
      "ACC:  0.940019540550748\n",
      "Recall :  0.1975914362176628\n",
      "precision :  0.6057823793709709\n"
     ]
    }
   ],
   "source": [
    "# my logistic regressor\n",
    "l_mdl = LogisticRegression().fit(x_train, y_train)\n",
    "y_pred = l_mdl.predict(x_test)\n",
    "y_pred_proba = l_mdl.predict_proba(x_test)\n",
    "\n",
    "acc = accuracy_score(y_test, y_pred)\n",
    "prec = precision_score(y_test, y_pred)\n",
    "recall = recall_score(y_test, y_pred)\n",
    "print(\"ACC: \", acc)\n",
    "print(\"Recall : \", recall)\n",
    "print(\"precision : \", prec)\n"
   ],
   "metadata": {
    "collapsed": false,
    "pycharm": {
     "name": "#%%\n"
    }
   }
  },
  {
   "cell_type": "code",
   "execution_count": null,
   "outputs": [],
   "source": [
    "from sklearn.neighbors import KNeighborsClassifier\n",
    "\n",
    "model = KNeighborsClassifier(n_neighbors=3)\n",
    "model.fit(x_train,y_train)\n",
    "y_pred= model.predict(x_test) # 0:Overcast, 2:Mild\n",
    "print(y_pred)\n",
    "acc = accuracy_score(y_test, y_pred)\n",
    "prec = precision_score(y_test, y_pred)\n",
    "recall = recall_score(y_test, y_pred)\n",
    "print(\"ACC: \", acc)\n",
    "print(\"Recall : \", recall)\n",
    "print(\"precision : \", prec)\n"
   ],
   "metadata": {
    "collapsed": false,
    "pycharm": {
     "name": "#%%\n"
    }
   }
  },
  {
   "cell_type": "code",
   "execution_count": null,
   "outputs": [],
   "source": [
    "from sklearn.svm import SVR\n",
    "svr_mdl = SVR()\n",
    "svr_mdl.fit(x_train, y_train)\n",
    "y_pred = svr_mdl.predict(x_test)\n",
    "\n",
    "print(y_pred)\n",
    "acc = accuracy_score(y_test, y_pred)\n",
    "prec = precision_score(y_test, y_pred)\n",
    "recall = recall_score(y_test, y_pred)\n",
    "print(\"ACC: \", acc)\n",
    "print(\"Recall : \", recall)\n",
    "print(\"precision : \", prec)\n"
   ],
   "metadata": {
    "collapsed": false,
    "pycharm": {
     "name": "#%%\n"
    }
   }
  }
 ],
 "metadata": {
  "kernelspec": {
   "display_name": "Python 3",
   "language": "python",
   "name": "python3"
  },
  "language_info": {
   "codemirror_mode": {
    "name": "ipython",
    "version": 2
   },
   "file_extension": ".py",
   "mimetype": "text/x-python",
   "name": "python",
   "nbconvert_exporter": "python",
   "pygments_lexer": "ipython2",
   "version": "2.7.6"
  }
 },
 "nbformat": 4,
 "nbformat_minor": 0
}