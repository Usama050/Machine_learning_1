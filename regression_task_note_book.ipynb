{
 "cells": [
  {
   "cell_type": "markdown",
   "source": [
    "## Assignment - 1\n",
    "Mohammad Usama"
   ],
   "metadata": {
    "collapsed": false,
    "pycharm": {
     "name": "#%% md\n"
    }
   }
  },
  {
   "cell_type": "code",
   "execution_count": 60,
   "outputs": [],
   "source": [
    "import numpy as np\n",
    "import pandas as pd\n",
    "\n",
    "import seaborn as sns\n",
    "from sklearn.metrics import r2_score, mean_squared_error\n",
    "from sklearn.model_selection import train_test_split\n",
    "from pandas_profiling import ProfileReport\n",
    "from category_encoders import OneHotEncoder, BinaryEncoder\n",
    "from sklearn.linear_model import LinearRegression\n",
    "from sklearn import metrics\n",
    "from sklearn.preprocessing import PolynomialFeatures\n",
    "from sklearn.linear_model import Lasso, Ridge\n",
    "from sklearn.impute import SimpleImputer\n",
    "import matplotlib.pyplot as plt\n",
    "\n",
    "from sklearn.preprocessing import StandardScaler\n",
    "\n",
    "\n"
   ],
   "metadata": {
    "collapsed": false,
    "pycharm": {
     "name": "#%%\n"
    }
   }
  },
  {
   "cell_type": "code",
   "execution_count": 61,
   "outputs": [],
   "source": [
    "df = pd.read_csv(\"bitrate_prediction/bitrate_train.csv\")\n",
    "df_test = pd.read_csv(\"bitrate_prediction/bitrate_test.csv\")"
   ],
   "metadata": {
    "collapsed": false,
    "pycharm": {
     "name": "#%%\n"
    }
   }
  },
  {
   "cell_type": "code",
   "execution_count": 62,
   "outputs": [
    {
     "data": {
      "text/plain": "Summarize dataset:   0%|          | 0/5 [00:00<?, ?it/s]",
      "application/vnd.jupyter.widget-view+json": {
       "version_major": 2,
       "version_minor": 0,
       "model_id": "17cf14689be546b1a2fb2b170a39e270"
      }
     },
     "metadata": {},
     "output_type": "display_data"
    },
    {
     "name": "stderr",
     "output_type": "stream",
     "text": [
      "/home/syed/Downloads/ML-Assignment-1-master/venv/lib/python3.10/site-packages/scipy/stats/_stats_py.py:5215: RuntimeWarning: overflow encountered in long_scalars\n",
      "  (2 * xtie * ytie) / m + x0 * y0 / (9 * m * (size - 2)))\n"
     ]
    },
    {
     "data": {
      "text/plain": "Generate report structure:   0%|          | 0/1 [00:00<?, ?it/s]",
      "application/vnd.jupyter.widget-view+json": {
       "version_major": 2,
       "version_minor": 0,
       "model_id": "dd89ef891aec4420a9a2597cca92bb1c"
      }
     },
     "metadata": {},
     "output_type": "display_data"
    },
    {
     "data": {
      "text/plain": "Render HTML:   0%|          | 0/1 [00:00<?, ?it/s]",
      "application/vnd.jupyter.widget-view+json": {
       "version_major": 2,
       "version_minor": 0,
       "model_id": "9e121f01d55f4d6cb9ad3d1c9b5c8c13"
      }
     },
     "metadata": {},
     "output_type": "display_data"
    },
    {
     "data": {
      "text/plain": "Export report to file:   0%|          | 0/1 [00:00<?, ?it/s]",
      "application/vnd.jupyter.widget-view+json": {
       "version_major": 2,
       "version_minor": 0,
       "model_id": "999d1c168a7a43a3ada9f7f31c6e0bf3"
      }
     },
     "metadata": {},
     "output_type": "display_data"
    }
   ],
   "source": [
    "ProfileReport(df).to_file(\"df_report.html\")\n"
   ],
   "metadata": {
    "collapsed": false,
    "pycharm": {
     "name": "#%%\n"
    }
   }
  },
  {
   "cell_type": "code",
   "execution_count": 63,
   "outputs": [
    {
     "data": {
      "text/plain": "            fps_mean        fps_std       rtt_mean        rtt_std  \\\ncount  379021.000000  379021.000000  379021.000000  379021.000000   \nmean       35.231127       1.725705      49.623858      12.763672   \nstd        10.975010       2.505942      94.781098     112.684460   \nmin        10.000000       0.000000       0.000000       0.000000   \n25%        28.800000       0.316228      14.300000       0.699206   \n50%        30.000000       0.942809      32.200000       1.433721   \n75%        43.600000       2.233582      55.900000       4.948625   \nmax       125.800000     307.167273   12898.400000   40721.933293   \n\n       dropped_frames_mean  dropped_frames_std  dropped_frames_max  \\\ncount        379021.000000       379021.000000       379021.000000   \nmean              0.180451            0.469548            1.450719   \nstd               1.732890            3.157866            9.670928   \nmin               0.000000            0.000000            0.000000   \n25%               0.000000            0.000000            0.000000   \n50%               0.000000            0.000000            0.000000   \n75%               0.000000            0.000000            0.000000   \nmax             540.000000          202.385770          640.000000   \n\n        bitrate_mean    bitrate_std         target  \ncount  379021.000000  379021.000000  379021.000000  \nmean     7516.585502    1603.487501    7525.396231  \nstd      6073.992189    1721.021623    6070.817736  \nmin         0.000000       0.000000       0.000000  \n25%      2773.300000     383.683550    2785.000000  \n50%      6287.200000    1112.710010    6296.000000  \n75%     10187.200000    2241.848801   10192.000000  \nmax     64913.500000   26908.532303   64913.000000  ",
      "text/html": "<div>\n<style scoped>\n    .dataframe tbody tr th:only-of-type {\n        vertical-align: middle;\n    }\n\n    .dataframe tbody tr th {\n        vertical-align: top;\n    }\n\n    .dataframe thead th {\n        text-align: right;\n    }\n</style>\n<table border=\"1\" class=\"dataframe\">\n  <thead>\n    <tr style=\"text-align: right;\">\n      <th></th>\n      <th>fps_mean</th>\n      <th>fps_std</th>\n      <th>rtt_mean</th>\n      <th>rtt_std</th>\n      <th>dropped_frames_mean</th>\n      <th>dropped_frames_std</th>\n      <th>dropped_frames_max</th>\n      <th>bitrate_mean</th>\n      <th>bitrate_std</th>\n      <th>target</th>\n    </tr>\n  </thead>\n  <tbody>\n    <tr>\n      <th>count</th>\n      <td>379021.000000</td>\n      <td>379021.000000</td>\n      <td>379021.000000</td>\n      <td>379021.000000</td>\n      <td>379021.000000</td>\n      <td>379021.000000</td>\n      <td>379021.000000</td>\n      <td>379021.000000</td>\n      <td>379021.000000</td>\n      <td>379021.000000</td>\n    </tr>\n    <tr>\n      <th>mean</th>\n      <td>35.231127</td>\n      <td>1.725705</td>\n      <td>49.623858</td>\n      <td>12.763672</td>\n      <td>0.180451</td>\n      <td>0.469548</td>\n      <td>1.450719</td>\n      <td>7516.585502</td>\n      <td>1603.487501</td>\n      <td>7525.396231</td>\n    </tr>\n    <tr>\n      <th>std</th>\n      <td>10.975010</td>\n      <td>2.505942</td>\n      <td>94.781098</td>\n      <td>112.684460</td>\n      <td>1.732890</td>\n      <td>3.157866</td>\n      <td>9.670928</td>\n      <td>6073.992189</td>\n      <td>1721.021623</td>\n      <td>6070.817736</td>\n    </tr>\n    <tr>\n      <th>min</th>\n      <td>10.000000</td>\n      <td>0.000000</td>\n      <td>0.000000</td>\n      <td>0.000000</td>\n      <td>0.000000</td>\n      <td>0.000000</td>\n      <td>0.000000</td>\n      <td>0.000000</td>\n      <td>0.000000</td>\n      <td>0.000000</td>\n    </tr>\n    <tr>\n      <th>25%</th>\n      <td>28.800000</td>\n      <td>0.316228</td>\n      <td>14.300000</td>\n      <td>0.699206</td>\n      <td>0.000000</td>\n      <td>0.000000</td>\n      <td>0.000000</td>\n      <td>2773.300000</td>\n      <td>383.683550</td>\n      <td>2785.000000</td>\n    </tr>\n    <tr>\n      <th>50%</th>\n      <td>30.000000</td>\n      <td>0.942809</td>\n      <td>32.200000</td>\n      <td>1.433721</td>\n      <td>0.000000</td>\n      <td>0.000000</td>\n      <td>0.000000</td>\n      <td>6287.200000</td>\n      <td>1112.710010</td>\n      <td>6296.000000</td>\n    </tr>\n    <tr>\n      <th>75%</th>\n      <td>43.600000</td>\n      <td>2.233582</td>\n      <td>55.900000</td>\n      <td>4.948625</td>\n      <td>0.000000</td>\n      <td>0.000000</td>\n      <td>0.000000</td>\n      <td>10187.200000</td>\n      <td>2241.848801</td>\n      <td>10192.000000</td>\n    </tr>\n    <tr>\n      <th>max</th>\n      <td>125.800000</td>\n      <td>307.167273</td>\n      <td>12898.400000</td>\n      <td>40721.933293</td>\n      <td>540.000000</td>\n      <td>202.385770</td>\n      <td>640.000000</td>\n      <td>64913.500000</td>\n      <td>26908.532303</td>\n      <td>64913.000000</td>\n    </tr>\n  </tbody>\n</table>\n</div>"
     },
     "execution_count": 63,
     "metadata": {},
     "output_type": "execute_result"
    }
   ],
   "source": [
    "df.describe()"
   ],
   "metadata": {
    "collapsed": false,
    "pycharm": {
     "name": "#%%\n"
    }
   }
  },
  {
   "cell_type": "code",
   "execution_count": 64,
   "outputs": [
    {
     "name": "stdout",
     "output_type": "stream",
     "text": [
      "(228145,)\n"
     ]
    }
   ],
   "source": [
    "x_train = df.drop(['target'], axis=1)\n",
    "x_test = df_test.drop(columns=['target'])\n",
    "y_train = df.loc[:, 'target']\n",
    "y_test = df_test.loc[:, 'target']\n",
    "print(y_test.shape)"
   ],
   "metadata": {
    "collapsed": false,
    "pycharm": {
     "name": "#%%\n"
    }
   }
  },
  {
   "cell_type": "code",
   "execution_count": 65,
   "outputs": [],
   "source": [
    "# preprocessing my df\n",
    "cats=x_train.select_dtypes(include=['object']).columns.tolist()\n",
    "enco=OneHotEncoder(cols=cats)\n",
    "enco.fit(x_train)\n",
    "x_train = enco.transform(x_train)\n",
    "\n",
    "imp=SimpleImputer(strategy='most_frequent')\n",
    "imp.fit(x_train)\n",
    "x_train = pd.DataFrame(imp.transform(x_train), columns=x_train.columns)\n",
    "\n",
    "s=StandardScaler()\n",
    "s.fit(x_train)\n",
    "x_train = pd.DataFrame(s.transform(x_train), columns=x_train.columns)\n",
    "\n",
    "#doing same with df_test\n",
    "cats=x_test.select_dtypes(include=['object']).columns.tolist()\n",
    "enco=OneHotEncoder(cols=cats)\n",
    "enco.fit(x_test)\n",
    "x_test = enco.transform(x_test)\n",
    "\n",
    "imp=SimpleImputer(strategy='most_frequent')\n",
    "imp.fit(x_test)\n",
    "x_test = pd.DataFrame(imp.transform(x_test), columns=x_test.columns)\n",
    "\n",
    "s=StandardScaler()\n",
    "s.fit(x_test)\n",
    "x_test = pd.DataFrame(s.transform(x_test), columns=x_test.columns)"
   ],
   "metadata": {
    "collapsed": false,
    "pycharm": {
     "name": "#%%\n"
    }
   }
  },
  {
   "cell_type": "code",
   "execution_count": 66,
   "outputs": [
    {
     "name": "stdout",
     "output_type": "stream",
     "text": [
      "(228145, 9)\n",
      "(228145,)\n",
      "MSE:  3938248.2986933305\n",
      "RMSE:  1984.50202788844\n",
      "Score :  0.8895632693905596\n"
     ]
    }
   ],
   "source": [
    "# my linear regressor\n",
    "li_mdl = LinearRegression()\n",
    "li_mdl.fit(x_train, y_train)\n",
    "y_pred = li_mdl.predict(x_test)\n",
    "print(x_test.shape)\n",
    "print(y_test.shape)\n",
    "print(\"MSE: \", mean_squared_error(y_pred=y_pred, y_true=y_test))\n",
    "print(\"RMSE: \", np.sqrt(mean_squared_error(y_pred=y_pred, y_true=y_test)))\n",
    "print(\"Score : \", r2_score(y_pred=y_pred, y_true=y_test))"
   ],
   "metadata": {
    "collapsed": false,
    "pycharm": {
     "name": "#%%\n"
    }
   }
  },
  {
   "cell_type": "code",
   "execution_count": 67,
   "outputs": [
    {
     "name": "stdout",
     "output_type": "stream",
     "text": [
      "(228145, 9)\n",
      "(228145,)\n",
      "MSE:  3914426.0302953008\n",
      "RMSE:  1978.490846654414\n",
      "Score :  0.8902312956900827\n"
     ]
    }
   ],
   "source": [
    "# my polynomial regressor\n",
    "p = PolynomialFeatures(degree=2)\n",
    "feat = p.fit_transform(x_train)\n",
    "p_mdl = LinearRegression()\n",
    "p_mdl.fit(feat, y_train)\n",
    "pfeats = p.fit_transform(x_test)\n",
    "y_pred =p_mdl.predict(pfeats)\n",
    "print(x_test.shape)\n",
    "print(y_test.shape)\n",
    "print(\"MSE: \", mean_squared_error(y_pred=y_pred, y_true=y_test))\n",
    "print(\"RMSE: \", np.sqrt(mean_squared_error(y_pred=y_pred, y_true=y_test)))\n",
    "print(\"Score : \", r2_score(y_pred=y_pred, y_true=y_test))\n"
   ],
   "metadata": {
    "collapsed": false,
    "pycharm": {
     "name": "#%%\n"
    }
   }
  },
  {
   "cell_type": "code",
   "execution_count": 68,
   "outputs": [
    {
     "name": "stdout",
     "output_type": "stream",
     "text": [
      "(228145, 9)\n",
      "(228145,)\n",
      "MSE:  3938283.911279341\n",
      "RMSE:  1984.5110005437966\n",
      "Score :  0.8895622707390605\n"
     ]
    }
   ],
   "source": [
    "# my lasso regressor\n",
    "l_mdl = Lasso(alpha=0.3)\n",
    "l_mdl.fit(x_train, y_train)\n",
    "y_pred = l_mdl.predict(x_test)\n",
    "\n",
    "print(x_test.shape)\n",
    "print(y_test.shape)\n",
    "print(\"MSE: \", mean_squared_error(y_pred=y_pred, y_true=y_test))\n",
    "print(\"RMSE: \", np.sqrt(mean_squared_error(y_pred=y_pred, y_true=y_test)))\n",
    "print(\"Score : \", r2_score(y_pred=y_pred, y_true=y_test))"
   ],
   "metadata": {
    "collapsed": false,
    "pycharm": {
     "name": "#%%\n"
    }
   }
  }
 ],
 "metadata": {
  "kernelspec": {
   "display_name": "Python 3",
   "language": "python",
   "name": "python3"
  },
  "language_info": {
   "codemirror_mode": {
    "name": "ipython",
    "version": 2
   },
   "file_extension": ".py",
   "mimetype": "text/x-python",
   "name": "python",
   "nbconvert_exporter": "python",
   "pygments_lexer": "ipython2",
   "version": "2.7.6"
  }
 },
 "nbformat": 4,
 "nbformat_minor": 0
}